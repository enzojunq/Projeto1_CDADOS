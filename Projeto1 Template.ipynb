{
 "cells": [
  {
   "cell_type": "markdown",
   "metadata": {},
   "source": [
    "# Projeto 1 - Ciência dos Dados"
   ]
  },
  {
   "cell_type": "markdown",
   "metadata": {},
   "source": [
    "Nome: Enzo Patelli Junqueira\n",
    "\n",
    "Nome: Thomas Rudge"
   ]
  },
  {
   "cell_type": "markdown",
   "metadata": {},
   "source": [
    "Atenção: Serão permitidos grupos de três pessoas, mas com uma rubrica mais exigente. Grupos deste tamanho precisarão fazer um questionário de avaliação de trabalho em equipe"
   ]
  },
  {
   "cell_type": "markdown",
   "metadata": {},
   "source": [
    "___\n",
    "Carregando algumas bibliotecas:"
   ]
  },
  {
   "cell_type": "code",
   "execution_count": 25,
   "metadata": {},
   "outputs": [],
   "source": [
    "%matplotlib inline\n",
    "import pandas as pd\n",
    "import matplotlib.pyplot as plt\n",
    "import numpy as np\n",
    "import os"
   ]
  },
  {
   "cell_type": "code",
   "execution_count": 26,
   "metadata": {
    "scrolled": false
   },
   "outputs": [
    {
     "name": "stdout",
     "output_type": "stream",
     "text": [
      "Esperamos trabalhar no diretório\n",
      "/Users/thomasrudge/Projeto1_CDADOS-1\n"
     ]
    }
   ],
   "source": [
    "print('Esperamos trabalhar no diretório')\n",
    "print(os.getcwd())"
   ]
  },
  {
   "cell_type": "markdown",
   "metadata": {},
   "source": [
    "Carregando a base de dados com os tweets classificados manualmente:"
   ]
  },
  {
   "cell_type": "code",
   "execution_count": 27,
   "metadata": {},
   "outputs": [
    {
     "data": {
      "text/html": [
       "<div>\n",
       "<style scoped>\n",
       "    .dataframe tbody tr th:only-of-type {\n",
       "        vertical-align: middle;\n",
       "    }\n",
       "\n",
       "    .dataframe tbody tr th {\n",
       "        vertical-align: top;\n",
       "    }\n",
       "\n",
       "    .dataframe thead th {\n",
       "        text-align: right;\n",
       "    }\n",
       "</style>\n",
       "<table border=\"1\" class=\"dataframe\">\n",
       "  <thead>\n",
       "    <tr style=\"text-align: right;\">\n",
       "      <th></th>\n",
       "      <th>Mensagem</th>\n",
       "      <th>Target: Avaliaremos quais reviews estao relacionados à utilização do Kindle, conteúdo do livro ou com erros de edição do livro (1 = Conteúdo, 2 = Amazon , 3 = Edição)</th>\n",
       "      <th>Unnamed: 2</th>\n",
       "      <th>Unnamed: 3</th>\n",
       "      <th>Unnamed: 4</th>\n",
       "    </tr>\n",
       "  </thead>\n",
       "  <tbody>\n",
       "    <tr>\n",
       "      <th>0</th>\n",
       "      <td>Comprei o livro e ele não baixou. Gostaria de ...</td>\n",
       "      <td>2</td>\n",
       "      <td>NaN</td>\n",
       "      <td>Rótulos de Linha</td>\n",
       "      <td>Contagem de Mensagem</td>\n",
       "    </tr>\n",
       "    <tr>\n",
       "      <th>1</th>\n",
       "      <td>Muita enrolação, pouca informação. A autora fi...</td>\n",
       "      <td>1</td>\n",
       "      <td>NaN</td>\n",
       "      <td>1</td>\n",
       "      <td>190</td>\n",
       "    </tr>\n",
       "    <tr>\n",
       "      <th>2</th>\n",
       "      <td>Não gostei, a capa diz mais do que o conteúdo ...</td>\n",
       "      <td>1</td>\n",
       "      <td>NaN</td>\n",
       "      <td>2</td>\n",
       "      <td>72</td>\n",
       "    </tr>\n",
       "    <tr>\n",
       "      <th>3</th>\n",
       "      <td>Estava tentando há dias continuar lendo sem qu...</td>\n",
       "      <td>1</td>\n",
       "      <td>NaN</td>\n",
       "      <td>3</td>\n",
       "      <td>38</td>\n",
       "    </tr>\n",
       "    <tr>\n",
       "      <th>4</th>\n",
       "      <td>Incapaz de conviver com ideias diferentes na a...</td>\n",
       "      <td>1</td>\n",
       "      <td>NaN</td>\n",
       "      <td>Total Geral</td>\n",
       "      <td>300</td>\n",
       "    </tr>\n",
       "  </tbody>\n",
       "</table>\n",
       "</div>"
      ],
      "text/plain": [
       "                                            Mensagem  \\\n",
       "0  Comprei o livro e ele não baixou. Gostaria de ...   \n",
       "1  Muita enrolação, pouca informação. A autora fi...   \n",
       "2  Não gostei, a capa diz mais do que o conteúdo ...   \n",
       "3  Estava tentando há dias continuar lendo sem qu...   \n",
       "4  Incapaz de conviver com ideias diferentes na a...   \n",
       "\n",
       "   Target: Avaliaremos quais reviews estao relacionados à utilização do Kindle, conteúdo do livro ou com erros de edição do livro (1 = Conteúdo, 2 = Amazon , 3 = Edição)  \\\n",
       "0                                                  2                                                                                                                        \n",
       "1                                                  1                                                                                                                        \n",
       "2                                                  1                                                                                                                        \n",
       "3                                                  1                                                                                                                        \n",
       "4                                                  1                                                                                                                        \n",
       "\n",
       "   Unnamed: 2        Unnamed: 3            Unnamed: 4  \n",
       "0         NaN  Rótulos de Linha  Contagem de Mensagem  \n",
       "1         NaN                 1                   190  \n",
       "2         NaN                 2                    72  \n",
       "3         NaN                 3                    38  \n",
       "4         NaN       Total Geral                   300  "
      ]
     },
     "execution_count": 27,
     "metadata": {},
     "output_type": "execute_result"
    }
   ],
   "source": [
    "treino = pd.read_excel('dados_treino.xlsx')\n",
    "treino.head()"
   ]
  },
  {
   "cell_type": "code",
   "execution_count": 28,
   "metadata": {},
   "outputs": [
    {
     "data": {
      "text/html": [
       "<div>\n",
       "<style scoped>\n",
       "    .dataframe tbody tr th:only-of-type {\n",
       "        vertical-align: middle;\n",
       "    }\n",
       "\n",
       "    .dataframe tbody tr th {\n",
       "        vertical-align: top;\n",
       "    }\n",
       "\n",
       "    .dataframe thead th {\n",
       "        text-align: right;\n",
       "    }\n",
       "</style>\n",
       "<table border=\"1\" class=\"dataframe\">\n",
       "  <thead>\n",
       "    <tr style=\"text-align: right;\">\n",
       "      <th></th>\n",
       "      <th>Mensagem</th>\n",
       "      <th>Target: Avaliaremos quais reviews estao relacionados à utilização do Kindle, conteúdo do livro ou com erros de edição do livro (1 = Conteúdo, 2 = Amazon , 3 = Edição)</th>\n",
       "      <th>Unnamed: 2</th>\n",
       "      <th>Unnamed: 3</th>\n",
       "      <th>Unnamed: 4</th>\n",
       "    </tr>\n",
       "  </thead>\n",
       "  <tbody>\n",
       "    <tr>\n",
       "      <th>0</th>\n",
       "      <td>Como o livro se concentra na política american...</td>\n",
       "      <td>1</td>\n",
       "      <td>NaN</td>\n",
       "      <td>Rótulos de Linha</td>\n",
       "      <td>Contagem de Mensagem</td>\n",
       "    </tr>\n",
       "    <tr>\n",
       "      <th>1</th>\n",
       "      <td>Boa estória. Quis ler antes de ver o filme, qu...</td>\n",
       "      <td>3</td>\n",
       "      <td>NaN</td>\n",
       "      <td>1</td>\n",
       "      <td>131</td>\n",
       "    </tr>\n",
       "    <tr>\n",
       "      <th>2</th>\n",
       "      <td>Não gostei. O livro o tempo todo traz narrativ...</td>\n",
       "      <td>1</td>\n",
       "      <td>NaN</td>\n",
       "      <td>2</td>\n",
       "      <td>53</td>\n",
       "    </tr>\n",
       "    <tr>\n",
       "      <th>3</th>\n",
       "      <td>Muito confuso.</td>\n",
       "      <td>1</td>\n",
       "      <td>NaN</td>\n",
       "      <td>3</td>\n",
       "      <td>16</td>\n",
       "    </tr>\n",
       "    <tr>\n",
       "      <th>4</th>\n",
       "      <td>Comprei o livro logo após comprar \"Garota Exem...</td>\n",
       "      <td>1</td>\n",
       "      <td>NaN</td>\n",
       "      <td>(vazio)</td>\n",
       "      <td>NaN</td>\n",
       "    </tr>\n",
       "  </tbody>\n",
       "</table>\n",
       "</div>"
      ],
      "text/plain": [
       "                                            Mensagem  \\\n",
       "0  Como o livro se concentra na política american...   \n",
       "1  Boa estória. Quis ler antes de ver o filme, qu...   \n",
       "2  Não gostei. O livro o tempo todo traz narrativ...   \n",
       "3                                     Muito confuso.   \n",
       "4  Comprei o livro logo após comprar \"Garota Exem...   \n",
       "\n",
       "   Target: Avaliaremos quais reviews estao relacionados à utilização do Kindle, conteúdo do livro ou com erros de edição do livro (1 = Conteúdo, 2 = Amazon , 3 = Edição)  \\\n",
       "0                                                  1                                                                                                                        \n",
       "1                                                  3                                                                                                                        \n",
       "2                                                  1                                                                                                                        \n",
       "3                                                  1                                                                                                                        \n",
       "4                                                  1                                                                                                                        \n",
       "\n",
       "   Unnamed: 2        Unnamed: 3            Unnamed: 4  \n",
       "0         NaN  Rótulos de Linha  Contagem de Mensagem  \n",
       "1         NaN                 1                   131  \n",
       "2         NaN                 2                    53  \n",
       "3         NaN                 3                    16  \n",
       "4         NaN           (vazio)                   NaN  "
      ]
     },
     "execution_count": 28,
     "metadata": {},
     "output_type": "execute_result"
    }
   ],
   "source": [
    "teste = pd.read_excel('dados_teste.xlsx')\n",
    "teste.head()"
   ]
  },
  {
   "cell_type": "markdown",
   "metadata": {},
   "source": [
    "Renomearemos a coluna de rótulos para algo mais simples, como \"Target\".\n",
    "Descartaremos as colunas desnecessárias.\n",
    "Carregaremos a lista de stop words do arquivo fornecido."
   ]
  },
  {
   "cell_type": "code",
   "execution_count": 29,
   "metadata": {},
   "outputs": [],
   "source": [
    "treino.columns = ['Mensagem', 'Target', 'Drop1', 'Drop2', 'Drop3']\n",
    "teste.columns = ['Mensagem', 'Target', 'Drop1', 'Drop2', 'Drop3']\n",
    "\n",
    "treino = treino[['Mensagem', 'Target']]\n",
    "teste = teste[['Mensagem', 'Target']]"
   ]
  },
  {
   "cell_type": "code",
   "execution_count": 30,
   "metadata": {},
   "outputs": [],
   "source": [
    "\n",
    "from unidecode import unidecode\n",
    "\n",
    "with open('stopwords.txt', 'r') as file:\n",
    "    stopwords = file.read().splitlines()\n",
    "\n",
    "stopwords = [unidecode(word.lower()) for word in stopwords]\n",
    "\n",
    "# Splitting the single string in the stopwords_list into individual words\n",
    "stopwords = stopwords[0].split(', ')\n"
   ]
  },
  {
   "cell_type": "markdown",
   "metadata": {},
   "source": [
    "Limpar as mensagens, removendo caracteres especiais, números e pontuações.\n",
    "Converter todas as palavras para minúsculas para manter a uniformidade.\n",
    "Remover as stop words."
   ]
  },
  {
   "cell_type": "code",
   "execution_count": 31,
   "metadata": {},
   "outputs": [],
   "source": [
    "import re\n",
    "from unidecode import unidecode\n",
    "\n",
    "def limpa_texto(text, stopwords):\n",
    "     # Remove acentos e caracteres especiais usando unidecode\n",
    "    novo_texto = unidecode(text)\n",
    "\n",
    "    # Remove todos os caracteres que não são letras ou números\n",
    "    cleaned_text = re.sub(r'[^a-zA-Z0-9\\s]', '', novo_texto)\n",
    "    text = cleaned_text.lower()\n",
    "\n",
    "    # Remove stopwords\n",
    "    text = ' '.join([word for word in text.split() if word not in stopwords])\n",
    "    return text\n",
    "\n",
    "# Aplica a função limpa_texto para todas as mensagens\n",
    "treino['Mensagem'] = treino['Mensagem'].apply(lambda x: limpa_texto(x, stopwords))\n",
    "teste['Mensagem'] = teste['Mensagem'].apply(lambda x: limpa_texto(x, stopwords))\n"
   ]
  },
  {
   "cell_type": "markdown",
   "metadata": {},
   "source": [
    "___\n",
    "## Classificador automático\n"
   ]
  },
  {
   "attachments": {},
   "cell_type": "markdown",
   "metadata": {},
   "source": [
    "Target: Avaliaremos quais Previsãos estão relacionados à utilização do Kindle, conteúdo do livro ou com erros de edição do livro\n",
    "\n",
    "1. Conteúdo: Previsãos que discutem o conteúdo do livro, como enredo, personagens, estilo de escrita, etc.\n",
    "2. Kindle: Reviews relacionados à experiência de leitura no dispositivo Kindle.\n",
    "3. Erros de Edição: Previsãos que mencionam erros de edição, como problemas de formatação, erros de impressão...\n"
   ]
  },
  {
   "cell_type": "markdown",
   "metadata": {},
   "source": [
    "___\n",
    "### Montando um Classificador Naive-Bayes\n",
    "\n",
    "Considerando apenas as mensagens da planilha Treinamento, ensine  seu classificador."
   ]
  },
  {
   "cell_type": "markdown",
   "metadata": {},
   "source": [
    "1. Calcular as probabilidades a priori para cada classe (a frequência de cada classe nos dados de treinamento).\n",
    "2. Calcular as probabilidades condicionais de cada palavra dada a classe (a frequência de cada palavra em cada classe nos dados de treinamento).\n",
    "3. Aplicar a suavização de Laplace para lidar com palavras não vistas nos dados de treinamento."
   ]
  },
  {
   "cell_type": "code",
   "execution_count": 32,
   "metadata": {},
   "outputs": [
    {
     "data": {
      "text/plain": [
       "1    0.633333\n",
       "2    0.240000\n",
       "3    0.126667\n",
       "Name: Target, dtype: float64"
      ]
     },
     "execution_count": 32,
     "metadata": {},
     "output_type": "execute_result"
    }
   ],
   "source": [
    "# Calcula a probabilidade de cada classe\n",
    "prob = treino['Target'].value_counts(normalize=True)\n",
    "\n",
    "prob"
   ]
  },
  {
   "cell_type": "markdown",
   "metadata": {},
   "source": [
    "As probabilidades a priori para cada classe (Target) são as seguintes:\n",
    "\n",
    "1. Conteúdo: 63.33%\n",
    "2. Kindle: 24.00%\n",
    "3. Erros de Edição: 12.67%"
   ]
  },
  {
   "cell_type": "code",
   "execution_count": 33,
   "metadata": {},
   "outputs": [],
   "source": [
    "# Conteúdo\n",
    "conteudo = treino[treino.Target == 1]\n",
    "# conteudo.head()"
   ]
  },
  {
   "cell_type": "code",
   "execution_count": 34,
   "metadata": {},
   "outputs": [],
   "source": [
    "# kindle\n",
    "kindle = treino[treino.Target == 2]\n",
    "# kindle.head()"
   ]
  },
  {
   "cell_type": "code",
   "execution_count": 35,
   "metadata": {},
   "outputs": [],
   "source": [
    "# edição\n",
    "edicao = treino[treino.Target == 3]\n",
    "# edicao.head()"
   ]
  },
  {
   "cell_type": "code",
   "execution_count": 36,
   "metadata": {},
   "outputs": [
    {
     "data": {
      "text/plain": [
       "([('livro', 236), ('mais', 85), ('ler', 47), ('historia', 46), ('ser', 44)],\n",
       " [('livro', 49), ('amazon', 34), ('mais', 32), ('livros', 30), ('preco', 25)],\n",
       " [('livro', 22), ('livros', 21), ('mais', 16), ('veio', 15), ('box', 15)])"
      ]
     },
     "execution_count": 36,
     "metadata": {},
     "output_type": "execute_result"
    }
   ],
   "source": [
    "from collections import Counter\n",
    "\n",
    "# Definindo uma função para contar palavras em um DataFrame\n",
    "def contar_palavras(df):\n",
    "    # Concatenando todas as mensagens e dividindo em palavras\n",
    "    palavras = ' '.join(df['Mensagem']).split()\n",
    "    # Contando a frequência de cada palavra\n",
    "    contagem_palavras = Counter(palavras)\n",
    "    return contagem_palavras\n",
    "\n",
    "# Contando as palavras em cada subcategoria\n",
    "contagem_conteudo = contar_palavras(conteudo)\n",
    "contagem_kindle = contar_palavras(kindle)\n",
    "contagem_edicao = contar_palavras(edicao)\n",
    "\n",
    "contagem_total = contagem_conteudo + contagem_kindle + contagem_edicao\n",
    "\n",
    "# Exibindo as palavras mais comuns em cada subcategoria\n",
    "contagem_conteudo.most_common(5), contagem_kindle.most_common(5), contagem_edicao.most_common(5)\n"
   ]
  },
  {
   "cell_type": "code",
   "execution_count": 37,
   "metadata": {},
   "outputs": [
    {
     "name": "stdout",
     "output_type": "stream",
     "text": [
      "Probabilidade de pertencer à categoria \"conteúdo\":  0.6333333333333333\n",
      "Probabilidade de pertencer à categoria \"kindle\":  0.24\n",
      "Probabilidade de pertencer à categoria \"edição\":  0.12666666666666668\n",
      "Total de palavras na categoria \"conteúdo\":  5223\n",
      "Total de palavras na categoria \"kindle\":  1938\n",
      "Total de palavras na categoria \"edição\":  961\n",
      "Total de palavras únicas:  3382\n"
     ]
    }
   ],
   "source": [
    "# Calculando as probabilidades a priori para cada categoria\n",
    "prob_priori_conteudo = len(conteudo) / len(treino)\n",
    "prob_priori_kindle = len(kindle) / len(treino)\n",
    "prob_priori_edicao = len(edicao) / len(treino)\n",
    "\n",
    "# Calculando o número total de palavras em cada subcategoria\n",
    "total_palavras_conteudo = sum(contagem_conteudo.values())\n",
    "total_palavras_kindle = sum(contagem_kindle.values())\n",
    "total_palavras_edicao = sum(contagem_edicao.values())\n",
    "\n",
    "# Calculando o número total de palavras únicas em todo o conjunto de treinamento\n",
    "total_palavras_unicas = len(set(contagem_total.keys()))\n",
    "\n",
    "# Exibindo as probabilidades a priori e o número total de palavras\n",
    "print('Probabilidade de pertencer à categoria \"conteúdo\": ', prob_priori_conteudo)\n",
    "print('Probabilidade de pertencer à categoria \"kindle\": ', prob_priori_kindle)\n",
    "print('Probabilidade de pertencer à categoria \"edição\": ', prob_priori_edicao)\n",
    "print('Total de palavras na categoria \"conteúdo\": ', total_palavras_conteudo)\n",
    "print('Total de palavras na categoria \"kindle\": ', total_palavras_kindle)\n",
    "print('Total de palavras na categoria \"edição\": ', total_palavras_edicao)\n",
    "print('Total de palavras únicas: ', total_palavras_unicas)\n"
   ]
  },
  {
   "cell_type": "code",
   "execution_count": 38,
   "metadata": {},
   "outputs": [
    {
     "data": {
      "text/plain": [
       "[('enrolacao', 0.00046484601975595586),\n",
       " ('informacao', 0.00023242300987797793),\n",
       " ('autora', 0.0018593840790238235),\n",
       " ('fica', 0.0008134805345729227),\n",
       " ('contando', 0.00023242300987797793)]"
      ]
     },
     "execution_count": 38,
     "metadata": {},
     "output_type": "execute_result"
    }
   ],
   "source": [
    "def calcular_probabilidades_condicionais(contagem_palavras, total_palavras, total_palavras_unicas):\n",
    "    # Suavização de Laplace\n",
    "    probabilidades = {}\n",
    "    for palavra, contagem in contagem_palavras.items():\n",
    "        probabilidades[palavra] = (contagem + 1) / (total_palavras + total_palavras_unicas)\n",
    "    return probabilidades\n",
    "\n",
    "# Calculando as probabilidades condicionais para cada palavra dada a categoria\n",
    "prob_conteudo = calcular_probabilidades_condicionais(contagem_conteudo, total_palavras_conteudo, total_palavras_unicas)\n",
    "prob_kindle = calcular_probabilidades_condicionais(contagem_kindle, total_palavras_kindle, total_palavras_unicas)\n",
    "prob_edicao = calcular_probabilidades_condicionais(contagem_edicao, total_palavras_edicao, total_palavras_unicas)\n",
    "\n",
    "# Exibindo as probabilidades condicionais das primeiras palavras na categoria 'conteúdo'\n",
    "list(prob_conteudo.items())[:5]\n"
   ]
  },
  {
   "cell_type": "markdown",
   "metadata": {},
   "source": [
    "___\n",
    "### Verificando a performance do Classificador\n",
    "\n",
    "Agora você deve testar o seu classificador com a base de Testes."
   ]
  },
  {
   "cell_type": "code",
   "execution_count": 39,
   "metadata": {},
   "outputs": [
    {
     "data": {
      "text/html": [
       "<div>\n",
       "<style scoped>\n",
       "    .dataframe tbody tr th:only-of-type {\n",
       "        vertical-align: middle;\n",
       "    }\n",
       "\n",
       "    .dataframe tbody tr th {\n",
       "        vertical-align: top;\n",
       "    }\n",
       "\n",
       "    .dataframe thead th {\n",
       "        text-align: right;\n",
       "    }\n",
       "</style>\n",
       "<table border=\"1\" class=\"dataframe\">\n",
       "  <thead>\n",
       "    <tr style=\"text-align: right;\">\n",
       "      <th></th>\n",
       "      <th>Mensagem</th>\n",
       "      <th>Target</th>\n",
       "      <th>Previsão</th>\n",
       "    </tr>\n",
       "  </thead>\n",
       "  <tbody>\n",
       "    <tr>\n",
       "      <th>0</th>\n",
       "      <td>livro concentra politica americana duas decada...</td>\n",
       "      <td>1</td>\n",
       "      <td>3</td>\n",
       "    </tr>\n",
       "    <tr>\n",
       "      <th>1</th>\n",
       "      <td>boa estoria quis ler filme epoca fez sucesso e...</td>\n",
       "      <td>3</td>\n",
       "      <td>1</td>\n",
       "    </tr>\n",
       "    <tr>\n",
       "      <th>2</th>\n",
       "      <td>gostei livro tempo traz narrativas cenarios eu...</td>\n",
       "      <td>1</td>\n",
       "      <td>1</td>\n",
       "    </tr>\n",
       "    <tr>\n",
       "      <th>3</th>\n",
       "      <td>confuso</td>\n",
       "      <td>1</td>\n",
       "      <td>1</td>\n",
       "    </tr>\n",
       "    <tr>\n",
       "      <th>4</th>\n",
       "      <td>comprei livro logo comprar garota exemplar sai...</td>\n",
       "      <td>1</td>\n",
       "      <td>2</td>\n",
       "    </tr>\n",
       "    <tr>\n",
       "      <th>5</th>\n",
       "      <td>venho meio expressar desapontamento loja virtu...</td>\n",
       "      <td>2</td>\n",
       "      <td>2</td>\n",
       "    </tr>\n",
       "    <tr>\n",
       "      <th>6</th>\n",
       "      <td>baixei livro motivada alto indice avaliacoes p...</td>\n",
       "      <td>1</td>\n",
       "      <td>1</td>\n",
       "    </tr>\n",
       "    <tr>\n",
       "      <th>7</th>\n",
       "      <td>pessima editora comprei livro tempo resolvi le...</td>\n",
       "      <td>3</td>\n",
       "      <td>1</td>\n",
       "    </tr>\n",
       "    <tr>\n",
       "      <th>8</th>\n",
       "      <td>tristeza venho redigir resenha infelizmente am...</td>\n",
       "      <td>2</td>\n",
       "      <td>2</td>\n",
       "    </tr>\n",
       "    <tr>\n",
       "      <th>9</th>\n",
       "      <td>cansativo kindle facilita idas vindas dicionar...</td>\n",
       "      <td>2</td>\n",
       "      <td>2</td>\n",
       "    </tr>\n",
       "  </tbody>\n",
       "</table>\n",
       "</div>"
      ],
      "text/plain": [
       "                                            Mensagem  Target  Previsão\n",
       "0  livro concentra politica americana duas decada...       1         3\n",
       "1  boa estoria quis ler filme epoca fez sucesso e...       3         1\n",
       "2  gostei livro tempo traz narrativas cenarios eu...       1         1\n",
       "3                                            confuso       1         1\n",
       "4  comprei livro logo comprar garota exemplar sai...       1         2\n",
       "5  venho meio expressar desapontamento loja virtu...       2         2\n",
       "6  baixei livro motivada alto indice avaliacoes p...       1         1\n",
       "7  pessima editora comprei livro tempo resolvi le...       3         1\n",
       "8  tristeza venho redigir resenha infelizmente am...       2         2\n",
       "9  cansativo kindle facilita idas vindas dicionar...       2         2"
      ]
     },
     "execution_count": 39,
     "metadata": {},
     "output_type": "execute_result"
    }
   ],
   "source": [
    "import numpy as np\n",
    "\n",
    "# Inicializar uma nova coluna no conjunto de dados de teste\n",
    "teste[\"Previsão\"] = 0\n",
    "\n",
    "# Iterar sobre cada mensagem no conjunto de dados de teste\n",
    "for i in range(len(teste[\"Mensagem\"])):\n",
    "    # Inicializar as probabilidades condicionais\n",
    "    prob_cont2 = prob_kindle2 = prob_edi2 = 1\n",
    "    \n",
    "    # Iterar sobre cada palavra na mensagem\n",
    "    for palavra in teste['Mensagem'][i].split():\n",
    "        # Multiplicar as probabilidades condicionais para cada classe, caso não exista multiplica pela suavização de Laplace\n",
    "        prob_cont2 *= prob_conteudo.get(palavra, (1 / (total_palavras_conteudo + total_palavras_unicas)))\n",
    "        prob_kindle2 *= prob_kindle.get(palavra, (1 / (total_palavras_kindle + total_palavras_unicas)))\n",
    "        prob_edi2 *= prob_edicao.get(palavra, (1 / (total_palavras_edicao + total_palavras_unicas)))\n",
    "    \n",
    "    # Multiplicar pelas probabilidades a priori\n",
    "    prob_cont2 *= prob_priori_conteudo\n",
    "    prob_kindle2 *= prob_priori_kindle\n",
    "    prob_edi2 *= prob_priori_edicao\n",
    "    \n",
    "    # Atribuir a classe com a maior probabilidade à coluna 'Previsão'\n",
    "    probabilidades = np.array([prob_cont2, prob_kindle2, prob_edi2])\n",
    "    teste.loc[i, \"Previsão\"] = np.argmax(probabilidades) + 1\n",
    "\n",
    "# Exibir as primeiras linhas do conjunto de dados de teste com a coluna 'Previsão' prevista\n",
    "teste.head(10)\n"
   ]
  },
  {
   "cell_type": "code",
   "execution_count": 40,
   "metadata": {},
   "outputs": [
    {
     "name": "stdout",
     "output_type": "stream",
     "text": [
      "0.765\n",
      "103\n",
      "10\n",
      "18\n",
      "3\n",
      "42\n",
      "8\n",
      "6\n",
      "2\n",
      "8\n"
     ]
    }
   ],
   "source": [
    "certo = 0\n",
    "\n",
    "t1r1 = 0\n",
    "t1r2 = 0\n",
    "t1r3 = 0\n",
    "t2r1 = 0\n",
    "t2r2 = 0\n",
    "t2r3 = 0\n",
    "t3r1 = 0\n",
    "t3r2 = 0\n",
    "t3r3 = 0\n",
    "\n",
    "for i in range(len(teste)):\n",
    "    if teste[\"Target\"][i] == teste[\"Previsão\"][i]:\n",
    "        certo += 1\n",
    "\n",
    "    if teste[\"Target\"][i] == 1 and teste[\"Previsão\"][i] == 1:\n",
    "        t1r1 += 1\n",
    "    elif teste[\"Target\"][i] == 1 and teste[\"Previsão\"][i] == 2:\n",
    "        t1r2 += 1\n",
    "    elif teste[\"Target\"][i] == 1 and teste[\"Previsão\"][i] == 3:\n",
    "        t1r3 += 1\n",
    "    elif teste[\"Target\"][i] == 2 and teste[\"Previsão\"][i] == 1:\n",
    "        t2r1 += 1\n",
    "    elif teste[\"Target\"][i] == 2 and teste[\"Previsão\"][i] == 2:\n",
    "        t2r2 += 1\n",
    "    elif teste[\"Target\"][i] == 2 and teste[\"Previsão\"][i] == 3:\n",
    "        t2r3 += 1\n",
    "    elif teste[\"Target\"][i] == 3 and teste[\"Previsão\"][i] == 1:\n",
    "        t3r1 += 1\n",
    "    elif teste[\"Target\"][i] == 3 and teste[\"Previsão\"][i] == 2:\n",
    "        t3r2 += 1\n",
    "    elif teste[\"Target\"][i] == 3 and teste[\"Previsão\"][i] == 3:\n",
    "        t3r3 += 1\n",
    "    \n",
    "\n",
    "\n",
    "\n",
    "acuracia = certo / len(teste)\n",
    "\n",
    "print(acuracia)\n",
    "\n",
    "print(t1r1)\n",
    "print(t1r2)\n",
    "print(t1r3)\n",
    "print(t2r1)\n",
    "print(t2r2)\n",
    "print(t2r3)\n",
    "print(t3r1)\n",
    "print(t3r2)\n",
    "print(t3r3)\n",
    "\n",
    "\n"
   ]
  },
  {
   "cell_type": "code",
   "execution_count": 41,
   "metadata": {},
   "outputs": [
    {
     "data": {
      "image/png": "[encoded data removed]",
      "text/plain": [
       "<Figure size 640x480 with 2 Axes>"
      ]
     },
     "metadata": {},
     "output_type": "display_data"
    },
    {
     "name": "stdout",
     "output_type": "stream",
     "text": [
      "Acurácia: 0.77%\n"
     ]
    }
   ],
   "source": [
    "from sklearn.metrics import confusion_matrix, accuracy_score, ConfusionMatrixDisplay\n",
    "\n",
    "# Obter os rótulos verdadeiros e os rótulos previstos\n",
    "rotulos_verdadeiros = teste['Target']\n",
    "rotulos_previstos = teste['Previsão']\n",
    "\n",
    "# Calcular a matriz de confusão\n",
    "matriz_confusao = confusion_matrix(rotulos_verdadeiros, rotulos_previstos)\n",
    "\n",
    "\n",
    "# Calcular a acurácia\n",
    "acuracia = accuracy_score(rotulos_verdadeiros, rotulos_previstos)\n",
    "\n",
    "# Exibir a matriz de confusão e a acurácia\n",
    "ConfusionMatrixDisplay(matriz_confusao).plot()\n",
    "plt.title('Matriz de Confusão')\n",
    "plt.xlabel('Previsão')\n",
    "plt.ylabel('Real')\n",
    "plt.show()\n",
    "\n",
    "print(f'Acurácia: {acuracia:.2f}%')\n",
    "\n"
   ]
  },
  {
   "cell_type": "markdown",
   "metadata": {},
   "source": [
    "___\n",
    "### Concluindo"
   ]
  },
  {
   "cell_type": "code",
   "execution_count": 42,
   "metadata": {},
   "outputs": [],
   "source": [
    "import numpy as np\n",
    "\n",
    "def classifica_frase(frase: str) -> dict:\n",
    "\n",
    "    # Limpar a frase\n",
    "    frase = limpa_texto(frase, stopwords)\n",
    "    \n",
    "    # Inicializar as probabilidades condicionais\n",
    "    prob_cont = prob_kind = prob_edi = 1\n",
    "    \n",
    "    # Calcular as probabilidades condicionais para cada palavra na frase\n",
    "    for palavra in frase.split():\n",
    "        prob_cont *= prob_conteudo.get(palavra, (1 / (total_palavras_conteudo + total_palavras_unicas)))\n",
    "        prob_kind *= prob_kindle.get(palavra, (1 / (total_palavras_kindle + total_palavras_unicas)))\n",
    "        prob_edi *= prob_edicao.get(palavra, (1 / (total_palavras_edicao + total_palavras_unicas)))\n",
    "\n",
    "    \n",
    "    # Multiplicar pelas probabilidades a priori\n",
    "    prob_cont *= prob_priori_conteudo\n",
    "    prob_kind *= prob_priori_kindle\n",
    "    prob_edi *= prob_priori_edicao\n",
    "    \n",
    "    # Encontrar a classe com a maior probabilidade\n",
    "    probabilidades = np.array([prob_cont, prob_kind, prob_edi])\n",
    "\n",
    "    classe_prevista = np.argmax(probabilidades) + 1\n",
    "\n",
    "    # if classe_prevista == 1:\n",
    "    #     classe_prevista = 'Conteúdo'\n",
    "    # elif classe_prevista == 2:\n",
    "    #     classe_prevista = 'Kindle'\n",
    "    # else:\n",
    "    #     classe_prevista = 'Edição'\n",
    "    \n",
    "    return classe_prevista\n",
    "\n",
    "# Testar a função com uma frase exemplo\n",
    "# classifica_frase('O livro é muito bom, recomendo a todos!')\n",
    "# classifica_frase('Não gosto de ler em lugares pequenos, a tela do kindle é minúscula!')\n",
    "# classifica_frase('Esse livro é péssimo, veio com páginas faltando!')\n",
    "\n"
   ]
  },
  {
   "cell_type": "markdown",
   "metadata": {},
   "source": [
    "___\n",
    "### Qualidade do Classificador a partir de novas separações dos tweets entre Treinamento e Teste\n",
    "\n",
    "Caso for fazer esse item do Projeto"
   ]
  },
  {
   "cell_type": "code",
   "execution_count": 43,
   "metadata": {},
   "outputs": [],
   "source": [
    "# df para o excel para fazer as iteraçoes já com as duas bases limpas\n",
    "teste.to_excel('teste.xlsx', index=False)\n",
    "treino.to_excel('treino.xlsx', index=False)"
   ]
  },
  {
   "cell_type": "code",
   "execution_count": 44,
   "metadata": {},
   "outputs": [
    {
     "data": {
      "text/html": [
       "<div>\n",
       "<style scoped>\n",
       "    .dataframe tbody tr th:only-of-type {\n",
       "        vertical-align: middle;\n",
       "    }\n",
       "\n",
       "    .dataframe tbody tr th {\n",
       "        vertical-align: top;\n",
       "    }\n",
       "\n",
       "    .dataframe thead th {\n",
       "        text-align: right;\n",
       "    }\n",
       "</style>\n",
       "<table border=\"1\" class=\"dataframe\">\n",
       "  <thead>\n",
       "    <tr style=\"text-align: right;\">\n",
       "      <th></th>\n",
       "      <th>Mensagem</th>\n",
       "      <th>Target</th>\n",
       "      <th>Classificação</th>\n",
       "    </tr>\n",
       "  </thead>\n",
       "  <tbody>\n",
       "    <tr>\n",
       "      <th>135</th>\n",
       "      <td>livro veio meio amassado caro edicao bolso</td>\n",
       "      <td>2</td>\n",
       "      <td>2</td>\n",
       "    </tr>\n",
       "    <tr>\n",
       "      <th>23</th>\n",
       "      <td>livro mostra somente atos praticados alemanha ...</td>\n",
       "      <td>1</td>\n",
       "      <td>1</td>\n",
       "    </tr>\n",
       "    <tr>\n",
       "      <th>247</th>\n",
       "      <td>livro possui exercicio metodo realmente auxili...</td>\n",
       "      <td>1</td>\n",
       "      <td>1</td>\n",
       "    </tr>\n",
       "    <tr>\n",
       "      <th>211</th>\n",
       "      <td>voltado especificamente usa tanto repetitivo b...</td>\n",
       "      <td>1</td>\n",
       "      <td>1</td>\n",
       "    </tr>\n",
       "    <tr>\n",
       "      <th>78</th>\n",
       "      <td>tanta demagogia meias verdades consegui passar...</td>\n",
       "      <td>1</td>\n",
       "      <td>1</td>\n",
       "    </tr>\n",
       "    <tr>\n",
       "      <th>...</th>\n",
       "      <td>...</td>\n",
       "      <td>...</td>\n",
       "      <td>...</td>\n",
       "    </tr>\n",
       "    <tr>\n",
       "      <th>26</th>\n",
       "      <td>nada novo neste livrinho peguei veio gratis el...</td>\n",
       "      <td>1</td>\n",
       "      <td>1</td>\n",
       "    </tr>\n",
       "    <tr>\n",
       "      <th>13</th>\n",
       "      <td>poemas epicos homero representam desafio qualq...</td>\n",
       "      <td>1</td>\n",
       "      <td>1</td>\n",
       "    </tr>\n",
       "    <tr>\n",
       "      <th>113</th>\n",
       "      <td>tao contraditorio parece escrito adolescente i...</td>\n",
       "      <td>1</td>\n",
       "      <td>1</td>\n",
       "    </tr>\n",
       "    <tr>\n",
       "      <th>137</th>\n",
       "      <td>traducao pessima editores tradutor envergonhar...</td>\n",
       "      <td>3</td>\n",
       "      <td>3</td>\n",
       "    </tr>\n",
       "    <tr>\n",
       "      <th>254</th>\n",
       "      <td>resumo mais filhinho papai complexo vira lata ...</td>\n",
       "      <td>1</td>\n",
       "      <td>1</td>\n",
       "    </tr>\n",
       "  </tbody>\n",
       "</table>\n",
       "<p>200 rows × 3 columns</p>\n",
       "</div>"
      ],
      "text/plain": [
       "                                              Mensagem  Target  Classificação\n",
       "135         livro veio meio amassado caro edicao bolso       2              2\n",
       "23   livro mostra somente atos praticados alemanha ...       1              1\n",
       "247  livro possui exercicio metodo realmente auxili...       1              1\n",
       "211  voltado especificamente usa tanto repetitivo b...       1              1\n",
       "78   tanta demagogia meias verdades consegui passar...       1              1\n",
       "..                                                 ...     ...            ...\n",
       "26   nada novo neste livrinho peguei veio gratis el...       1              1\n",
       "13   poemas epicos homero representam desafio qualq...       1              1\n",
       "113  tao contraditorio parece escrito adolescente i...       1              1\n",
       "137  traducao pessima editores tradutor envergonhar...       3              3\n",
       "254  resumo mais filhinho papai complexo vira lata ...       1              1\n",
       "\n",
       "[200 rows x 3 columns]"
      ]
     },
     "execution_count": 44,
     "metadata": {},
     "output_type": "execute_result"
    }
   ],
   "source": [
    "iteracoes = 1000\n",
    "acuracias = []\n",
    "\n",
    "for i in range(iteracoes):\n",
    "    certo = 0\n",
    "    teste_embaralhado = pd.concat([treino, teste])\n",
    "    teste_embaralhado = teste_embaralhado[['Mensagem','Target']]\n",
    "    teste_embaralhado = teste_embaralhado.sample(frac=1)\n",
    "    teste_embaralhado = teste_embaralhado[:200]\n",
    "\n",
    "    teste_embaralhado['Classificação'] = teste_embaralhado['Mensagem'].apply(classifica_frase)\n",
    "\n",
    "    for i, row in teste_embaralhado.iterrows():\n",
    "        if row[\"Target\"] == row[\"Classificação\"]:\n",
    "            certo += 1\n",
    "    acuracia = certo / len(teste_embaralhado)\n",
    "    acuracias.append(acuracia)\n",
    "\n",
    "media_acuracia = np.mean(acuracias)\n",
    "\n",
    "teste_embaralhado\n"
   ]
  },
  {
   "cell_type": "code",
   "execution_count": 45,
   "metadata": {},
   "outputs": [],
   "source": [
    "media_acuracia = np.mean(acuracias)"
   ]
  },
  {
   "cell_type": "code",
   "execution_count": 46,
   "metadata": {},
   "outputs": [
    {
     "name": "stdout",
     "output_type": "stream",
     "text": [
      "Média das Acurácias: 0.899\n"
     ]
    },
    {
     "data": {
      "image/png": "[encoded data removed]",
      "text/plain": [
       "<Figure size 1200x600 with 1 Axes>"
      ]
     },
     "metadata": {},
     "output_type": "display_data"
    }
   ],
   "source": [
    "import matplotlib.pyplot as plt\n",
    "import seaborn as sns\n",
    "\n",
    "# Calculando a média e o desvio padrão das acurácias\n",
    "media_acuracia = np.mean(acuracias)\n",
    "print(f'Média das Acurácias: {media_acuracia:.3f}')\n",
    "desvio_padrao_acuracia = np.std(acuracias)\n",
    "\n",
    "# Criando o gráfico de distribuição\n",
    "plt.figure(figsize=(12, 6))\n",
    "sns.histplot(acuracias, bins=40)\n",
    "plt.axvline(media_acuracia, color='r', linestyle='--', label=f'Média: {media_acuracia:.3f}')\n",
    "# plt.axvline(media_acuracia + desvio_padrao_acuracia, color='g', linestyle='--', label=f'Desvio Padrão: {desvio_padrao_acuracia:.3f}')\n",
    "# plt.axvline(media_acuracia - desvio_padrao_acuracia, color='g', linestyle='--')\n",
    "plt.xlim(0, 1)\n",
    "plt.title('Distribuição das Acurácias')\n",
    "plt.xlabel('Acurácia')\n",
    "plt.ylabel('Frequência')\n",
    "plt.legend()\n",
    "plt.show()"
   ]
  },
  {
   "cell_type": "code",
   "execution_count": 47,
   "metadata": {},
   "outputs": [
    {
     "name": "stdout",
     "output_type": "stream",
     "text": [
      "Média das Acurácias: 0.899\n"
     ]
    },
    {
     "data": {
      "image/png": "[encoded data removed]",
      "text/plain": [
       "<Figure size 1200x600 with 1 Axes>"
      ]
     },
     "metadata": {},
     "output_type": "display_data"
    }
   ],
   "source": [
    "import matplotlib.pyplot as plt\n",
    "import seaborn as sns\n",
    "\n",
    "# Calculando a média e o desvio padrão das acurácias\n",
    "media_acuracia = np.mean(acuracias)\n",
    "print(f'Média das Acurácias: {media_acuracia:.3f}')\n",
    "desvio_padrao_acuracia = np.std(acuracias)\n",
    "\n",
    "# Criando o gráfico de distribuição\n",
    "plt.figure(figsize=(12, 6))\n",
    "sns.histplot(acuracias, bins=25)\n",
    "plt.axvline(media_acuracia, color='r', linestyle='--', label=f'Média: {media_acuracia:.3f}')\n",
    "plt.axvline(media_acuracia + desvio_padrao_acuracia, color='g', linestyle='--', label=f'Desvio Padrão: {desvio_padrao_acuracia:.3f}')\n",
    "plt.axvline(media_acuracia - desvio_padrao_acuracia, color='g', linestyle='--')\n",
    "plt.title('Distribuição das Acurácias')\n",
    "plt.xlabel('Acurácia')\n",
    "plt.ylabel('Frequência')\n",
    "plt.legend()\n",
    "plt.show()"
   ]
  },
  {
   "attachments": {},
   "cell_type": "markdown",
   "metadata": {},
   "source": [
    "### Por que não usar o próprio classificador para gerar mais amostras de treinamento?\n",
    "Usar o próprio classificador para gerar mais amostras de treinamento pode levar a problemas de viés e superajuste (overfitting). O modelo já foi treinado com o conjunto de dados existente e tem suas limitações e viéses baseados nesse conjunto de dados. Adicionar mais amostras geradas pelo próprio modelo só reforçará os viéses e limitações existentes, e não contribuirá para a generalização do modelo para dados não vistos. Além disso, pode levar a uma falsa sensação de precisão e confiança no modelo, já que as amostras adicionadas são, por definição, bem classificadas pelo modelo.\n",
    "\n",
    "### Diferentes cenários para Naïve Bayes\n",
    "1. Diagnóstico Médico:\n",
    "O classificador Naïve Bayes pode ser usado para diagnosticar doenças com base em sintomas. Cada sintoma pode ser tratado como uma característica, e o Naïve Bayes pode ser usado para calcular a probabilidade de uma doença específica dado um conjunto de sintomas.\n",
    "\n",
    "2. Análise de Sentimento em Redes Sociais:\n",
    "O Naïve Bayes pode ser empregado para analisar o sentimento de usuários em redes sociais, classificando postagens ou comentários como positivos, negativos ou neutros. Isso pode ser útil para empresas monitorarem a opinião pública sobre seus produtos ou serviços e ajustarem suas estratégias de marketing e comunicação conforme necessário.\n",
    "\n",
    "### Sugestões de Melhorias e Como Implementar:\n",
    "1. Limpeza e Pré-processamento Avançado:\n",
    "Como Implementar: Utilizar técnicas mais avançadas de processamento de linguagem natural, como a lematização, para reduzir as palavras à sua forma base e remover variações.\n",
    "Referências: Bibliotecas como NLTK e SpaCy em Python oferecem ferramentas avançadas de pré-processamento de texto.\n",
    "Link: https://codewithgolu.com/python/a-comprehensive-guide-to-text-preprocessing-with-nltk-and-spa-cy/\n",
    "\n",
    "2. Otimização de Hiperparâmetros:\n",
    "Como Implementar: Utilizar técnicas de otimização de hiperparâmetros, como busca em grade (Grid Search), para encontrar os melhores parâmetros para o modelo.\n",
    "Referências: A biblioteca Scikit-learn em Python oferece métodos como GridSearchCV para otimização de hiperparâmetros. Link: https://pyimagesearch.com/2021/05/24/grid-search-hyperparameter-tuning-with-scikit-learn-gridsearchcv/\n",
    "\n",
    "3. Seleção de Características:\n",
    "Como Implementar: Empregar técnicas de seleção de características para identificar e manter apenas as características mais informativas e remover características redundantes ou irrelevantes.\n",
    "Referências: Métodos como o teste do qui-quadrado (chi-squared test) podem ser usados para avaliar a importância das características.\n",
    "\n",
    "4. Uso de Modelos Mais Complexos:\n",
    "Como Implementar: Experimentar modelos mais avançados e complexos como Máquinas de Vetores de Suporte (SVM) ou Redes Neurais.\n",
    "Referências: Frameworks como TensorFlow e PyTorch permitem a implementação de modelos mais avançados de aprendizado de máquina.\n",
    "\n",
    "\n"
   ]
  },
  {
   "cell_type": "markdown",
   "metadata": {},
   "source": [
    "___\n",
    "## Aperfeiçoamento:\n",
    "\n",
    "Trabalhos que conseguirem pelo menos conceito B vão evoluir em conceito dependendo da quantidade de itens avançados:\n",
    "\n",
    "* IMPLEMENTOU outras limpezas e transformações que não afetem a qualidade da informação contida nos tweets. Ex: stemming, lemmatization, stopwords\n",
    "* CONSIDEROU mais de duas categorias na variável Target e INCREMENTOU a quantidade de notícias, mantendo pelo menos 250 notícias por categoria (OBRIGATÓRIO PARA TRIOS, sem contar como item avançado)\n",
    "* Para Target com duas categorias: CRIOU pelo menos quatro categorias intermediárias de relevância baseadas na probabilidade: ex.: muito relevante, relevante, neutro, irrelevante, muito irrelevante\n",
    "* EXPLICOU porquê não pode usar o próprio classificador para gerar mais amostras de treinamento\n",
    "* PROPÔS diferentes cenários para Naïve Bayes fora do contexto do projeto (pelo menos dois cenários, exceto aqueles já apresentados em sala pelos professores: por exemplo, filtro de spam)\n",
    "* SUGERIU e EXPLICOU melhorias reais com indicações concretas de como implementar (indicar como fazer e indicar material de pesquisa)\n",
    "* FEZ o item Qualidade do Classificador a partir de novas separações das Notícias entre Treinamento e Teste descrito no enunciado do projeto (OBRIGATÓRIO para conceitos A ou A+)"
   ]
  },
  {
   "cell_type": "markdown",
   "metadata": {},
   "source": [
    "___\n",
    "## Referências"
   ]
  },
  {
   "cell_type": "markdown",
   "metadata": {},
   "source": [
    "[Naive Bayes and Text Classification](https://arxiv.org/pdf/1410.5329.pdf)  **Mais completo**\n",
    "\n",
    "[A practical explanation of a Naive Bayes Classifier](https://monkeylearn.com/blog/practical-explanation-naive-bayes-classifier/) **Mais simples**"
   ]
  },
  {
   "cell_type": "code",
   "execution_count": null,
   "metadata": {},
   "outputs": [],
   "source": []
  }
 ],
 "metadata": {
  "kernelspec": {
   "display_name": "base",
   "language": "python",
   "name": "python3"
  },
  "language_info": {
   "codemirror_mode": {
    "name": "ipython",
    "version": 3
   },
   "file_extension": ".py",
   "mimetype": "text/x-python",
   "name": "python",
   "nbconvert_exporter": "python",
   "pygments_lexer": "ipython3",
   "version": "3.9.13"
  },
  "vscode": {
   "interpreter": {
    "hash": "bef212c14ce64994d560cb6d08fe93777e33f258990bc1748f654244ded52b39"
   }
  }
 },
 "nbformat": 4,
 "nbformat_minor": 4
}
